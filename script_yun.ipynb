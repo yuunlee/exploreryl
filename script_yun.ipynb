{
 "cells": [
  {
   "cell_type": "markdown",
   "metadata": {},
   "source": [
    "Connecting to Augur"
   ]
  },
  {
   "cell_type": "code",
   "execution_count": 1,
   "metadata": {},
   "outputs": [],
   "source": [
    "import pandas as pd\n",
    "import json\n",
    "import sqlalchemy as salc\n",
    "import psycopg2\n",
    "\n",
    "with open(\"../config.json\") as config_file:\n",
    "    config = json.load(config_file)\n",
    "\n",
    "database_connection_string = 'postgresql+psycopg2://{}:{}@{}:{}/{}'.format(\n",
    "                              config['user'],\n",
    "                              config['password'],\n",
    "                              config['host'],\n",
    "                              config['port'],\n",
    "                              config['database']\n",
    "                            )\n",
    "\n",
    "dbschema='augur_data'\n",
    "engine = salc.create_engine(\n",
    "    database_connection_string,\n",
    "    connect_args={'options': '-csearch_path={}'.format(dbschema)})"
   ]
  },
  {
   "cell_type": "markdown",
   "metadata": {},
   "source": [
    "## Activity Metrics\n",
    "- SQL query for github activity metrics\n",
    "- Focused on the increment in activity (star/fork/watch/committer/commit/issue) over time to prevent from old repo having lots of accumulated activity.\n",
    "    -  Assigned different weights for #increase_in_stars, #increase_in_forks, #increase_in_watch, #increase_in_committer, #increase_in_commit, #increase_in_issue, #increase_in_pr, #increase_in_pr_open, #increase_in_pr_close, #increase_in_pr_merge, then sum them together"
   ]
  },
  {
   "cell_type": "code",
   "execution_count": 16,
   "metadata": {},
   "outputs": [],
   "source": [
    "dframe = pd.DataFrame()\n",
    "\n",
    "repo_query = salc.sql.text(f\"\"\"\n",
    "SELECT x.repo_id,\n",
    "       x.rg_name,\n",
    "       x.repo_name,\n",
    "       last_updated,\n",
    "       DATE(last_updated),\n",
    "       to_char(last_updated, 'DAY'),\n",
    "       EXTRACT(year FROM last_updated) AS \"Year\",\n",
    "       EXTRACT(month FROM last_updated) AS \"month\",\n",
    "       extract(hour from last_updated) AS \"hour\",\n",
    "       x.increase_committer,\n",
    "       x.increase_pr_open,\n",
    "       x.increase_commit,\n",
    "       (x.increase_committer + x.increase_pr_open + x.increase_pr_close + x.increase_pr_merge + x.increase_issue + x.increase_pr + x.increase_star + x.increase_fork)*10 AS total\n",
    "            FROM(\n",
    "        SELECT \n",
    "            rg.repo_group_id,\n",
    "            rg.rg_name,\n",
    "            r.repo_id,\n",
    "            r.repo_name,\n",
    "            /*ri.license,*/\n",
    "            CASE\n",
    "                WHEN r.repo_id - lag(r.repo_id) over (order by rg.repo_group_id ASC, r.repo_id ASC, ri.last_updated) = 0 THEN \n",
    "                (ri.stars_count - lag(ri.stars_count) over (order by rg.repo_group_id ASC, r.repo_id ASC, ri.last_updated)) * 0.01\n",
    "            END\n",
    "                AS increase_star,\n",
    "            CASE\n",
    "                WHEN r.repo_id - lag(r.repo_id) over (order by rg.repo_group_id ASC, r.repo_id ASC, ri.last_updated) = 0 THEN \n",
    "                (ri.fork_count - lag(ri.fork_count) over (order by rg.repo_group_id ASC, r.repo_id ASC, ri.last_updated)) * 0.5\n",
    "            END\n",
    "                AS increase_fork,\n",
    "            CASE\n",
    "                WHEN r.repo_id - lag(r.repo_id) over (order by rg.repo_group_id ASC, r.repo_id ASC, ri.last_updated) = 0 THEN \n",
    "                (ri.watchers_count - lag(ri.watchers_count) over (order by rg.repo_group_id ASC, r.repo_id ASC, ri.last_updated)) * 0.8\n",
    "            END\n",
    "                AS increase_watch,\n",
    "            CASE\n",
    "                WHEN r.repo_id - lag(r.repo_id) over (order by rg.repo_group_id ASC, r.repo_id ASC, ri.last_updated) = 0 THEN \n",
    "                (ri.committers_count - lag(ri.committers_count) over (order by rg.repo_group_id ASC, r.repo_id ASC, ri.last_updated)) *1.5\n",
    "            END\n",
    "                AS increase_committer,\n",
    "            CASE\n",
    "                WHEN r.repo_id - lag(r.repo_id) over (order by rg.repo_group_id ASC, r.repo_id ASC, ri.last_updated) = 0 THEN \n",
    "                (ri.commit_count - lag(ri.commit_count) over (order by rg.repo_group_id ASC, r.repo_id ASC, ri.last_updated)) * 1.2\n",
    "            END\n",
    "                AS increase_commit,\n",
    "            CASE\n",
    "                WHEN r.repo_id - lag(r.repo_id) over (order by rg.repo_group_id ASC, r.repo_id ASC, ri.last_updated) = 0 THEN \n",
    "                (ri.issues_count - lag(ri.issues_count) over (order by rg.repo_group_id ASC, r.repo_id ASC, ri.last_updated)) * 1.3\n",
    "            END\n",
    "                AS increase_issue,\n",
    "            CASE\n",
    "                WHEN r.repo_id - lag(r.repo_id) over (order by rg.repo_group_id ASC, r.repo_id ASC, ri.last_updated) = 0 THEN \n",
    "                (ri.pull_request_count - lag(ri.pull_request_count) over (order by rg.repo_group_id ASC, r.repo_id ASC, ri.last_updated)) * 1.6\n",
    "            END\n",
    "                AS increase_pr,\n",
    "            CASE\n",
    "                WHEN r.repo_id - lag(r.repo_id) over (order by rg.repo_group_id ASC, r.repo_id ASC, ri.last_updated) = 0 THEN \n",
    "                (ri.pull_requests_open - lag(ri.pull_requests_open) over (order by rg.repo_group_id ASC, r.repo_id ASC, ri.last_updated)) * 1.6\n",
    "            END\n",
    "                AS increase_pr_open,\n",
    "            CASE\n",
    "                WHEN r.repo_id - lag(r.repo_id) over (order by rg.repo_group_id ASC, r.repo_id ASC, ri.last_updated) = 0 THEN \n",
    "                (ri.pull_requests_closed - lag(ri.pull_requests_closed) over (order by rg.repo_group_id ASC, r.repo_id ASC, ri.last_updated)) * 1.8\n",
    "            END\n",
    "                AS increase_pr_close,\n",
    "            CASE\n",
    "                WHEN r.repo_id - lag(r.repo_id) over (order by rg.repo_group_id ASC, r.repo_id ASC, ri.last_updated) = 0 THEN \n",
    "                (ri.pull_requests_merged - lag(ri.pull_requests_merged) over (order by rg.repo_group_id ASC, r.repo_id ASC, ri.last_updated)) * 2    \n",
    "            END\n",
    "                AS increase_pr_merge,\n",
    "            ri.last_updated,\n",
    "            CASE\n",
    "                WHEN EXTRACT(YEAR FROM ri.last_updated) < 2022 THEN 'far away'\n",
    "                WHEN EXTRACT(YEAR FROM ri.last_updated) >= 2022 THEN 'recent'\n",
    "            END\n",
    "                AS segment,\n",
    "            EXTRACT(year FROM last_updated) AS \"Year\",\n",
    "            EXTRACT(month FROM last_updated) AS \"month\" \n",
    "        FROM REPO r\n",
    "            LEFT JOIN repo_groups rg\n",
    "            ON rg.repo_group_id = r.repo_group_id\n",
    "            LEFT join repo_info ri \n",
    "            on r.repo_id = ri.repo_id \n",
    "        /*where rg.rg_name = 'agroal'*/\n",
    "        order by rg.repo_group_id ASC, r.repo_id ASC, ri.last_updated) AS x\n",
    "\"\"\")"
   ]
  },
  {
   "cell_type": "code",
   "execution_count": 109,
   "metadata": {},
   "outputs": [],
   "source": [
    "dframe = pd.read_sql(repo_query, con=engine)\n",
    "# extract specific org as sample dataset\n",
    "# dtest = dframe[dframe['rg_name'] == 'fedora']\n",
    "\n",
    "# calculating activeness percentage based on repo_name\n",
    "dframe['percentage'] = dframe['total'] / dframe.groupby('repo_name')['total'].transform('sum')\n",
    "\n",
    "# Fill NA value of specific column into zero\n",
    "# dtest['percentage'] = dtest['percentage'].fillna(0)\n",
    "# Fill all NA value into zero\n",
    "dframe = dframe.fillna(0)\n",
    "\n",
    "# get the first 500 rows as sample data\n",
    "duse = dframe[:500]\n",
    "\n",
    "# extract column 'month' and 'percentage', copy it as another dataframe\n",
    "# dft = dtest[['month', 'percentage']].copy()\n",
    "dft = duse['percentage'].copy()"
   ]
  },
  {
   "cell_type": "code",
   "execution_count": 110,
   "metadata": {},
   "outputs": [
    {
     "data": {
      "text/html": [
       "<div>\n",
       "<style scoped>\n",
       "    .dataframe tbody tr th:only-of-type {\n",
       "        vertical-align: middle;\n",
       "    }\n",
       "\n",
       "    .dataframe tbody tr th {\n",
       "        vertical-align: top;\n",
       "    }\n",
       "\n",
       "    .dataframe thead th {\n",
       "        text-align: right;\n",
       "    }\n",
       "</style>\n",
       "<table border=\"1\" class=\"dataframe\">\n",
       "  <thead>\n",
       "    <tr style=\"text-align: right;\">\n",
       "      <th></th>\n",
       "      <th>repo_id</th>\n",
       "      <th>rg_name</th>\n",
       "      <th>repo_name</th>\n",
       "      <th>last_updated</th>\n",
       "      <th>date</th>\n",
       "      <th>to_char</th>\n",
       "      <th>Year</th>\n",
       "      <th>month</th>\n",
       "      <th>hour</th>\n",
       "      <th>increase_committer</th>\n",
       "      <th>increase_pr_open</th>\n",
       "      <th>increase_commit</th>\n",
       "      <th>total</th>\n",
       "      <th>percentage</th>\n",
       "    </tr>\n",
       "  </thead>\n",
       "  <tbody>\n",
       "    <tr>\n",
       "      <th>0</th>\n",
       "      <td>24441</td>\n",
       "      <td>Default Repo Group</td>\n",
       "      <td>operate-first-twitter</td>\n",
       "      <td>2021-10-12 09:19:15</td>\n",
       "      <td>2021-10-12</td>\n",
       "      <td>TUESDAY</td>\n",
       "      <td>2021.0</td>\n",
       "      <td>10.0</td>\n",
       "      <td>9.0</td>\n",
       "      <td>0.0</td>\n",
       "      <td>0.0</td>\n",
       "      <td>0.0</td>\n",
       "      <td>0.0</td>\n",
       "      <td>0.000000</td>\n",
       "    </tr>\n",
       "    <tr>\n",
       "      <th>1</th>\n",
       "      <td>24441</td>\n",
       "      <td>Default Repo Group</td>\n",
       "      <td>operate-first-twitter</td>\n",
       "      <td>2021-10-12 09:19:15</td>\n",
       "      <td>2021-10-12</td>\n",
       "      <td>TUESDAY</td>\n",
       "      <td>2021.0</td>\n",
       "      <td>10.0</td>\n",
       "      <td>9.0</td>\n",
       "      <td>0.0</td>\n",
       "      <td>0.0</td>\n",
       "      <td>0.0</td>\n",
       "      <td>0.0</td>\n",
       "      <td>0.000000</td>\n",
       "    </tr>\n",
       "    <tr>\n",
       "      <th>2</th>\n",
       "      <td>24441</td>\n",
       "      <td>Default Repo Group</td>\n",
       "      <td>operate-first-twitter</td>\n",
       "      <td>2021-10-26 18:15:41</td>\n",
       "      <td>2021-10-26</td>\n",
       "      <td>TUESDAY</td>\n",
       "      <td>2021.0</td>\n",
       "      <td>10.0</td>\n",
       "      <td>18.0</td>\n",
       "      <td>-15.0</td>\n",
       "      <td>-1.6</td>\n",
       "      <td>0.0</td>\n",
       "      <td>-146.0</td>\n",
       "      <td>-0.469453</td>\n",
       "    </tr>\n",
       "    <tr>\n",
       "      <th>3</th>\n",
       "      <td>24441</td>\n",
       "      <td>Default Repo Group</td>\n",
       "      <td>operate-first-twitter</td>\n",
       "      <td>2021-10-26 18:15:41</td>\n",
       "      <td>2021-10-26</td>\n",
       "      <td>TUESDAY</td>\n",
       "      <td>2021.0</td>\n",
       "      <td>10.0</td>\n",
       "      <td>18.0</td>\n",
       "      <td>0.0</td>\n",
       "      <td>0.0</td>\n",
       "      <td>0.0</td>\n",
       "      <td>0.0</td>\n",
       "      <td>0.000000</td>\n",
       "    </tr>\n",
       "    <tr>\n",
       "      <th>4</th>\n",
       "      <td>24441</td>\n",
       "      <td>Default Repo Group</td>\n",
       "      <td>operate-first-twitter</td>\n",
       "      <td>2021-10-26 18:15:41</td>\n",
       "      <td>2021-10-26</td>\n",
       "      <td>TUESDAY</td>\n",
       "      <td>2021.0</td>\n",
       "      <td>10.0</td>\n",
       "      <td>18.0</td>\n",
       "      <td>16.5</td>\n",
       "      <td>0.0</td>\n",
       "      <td>0.0</td>\n",
       "      <td>165.0</td>\n",
       "      <td>0.530547</td>\n",
       "    </tr>\n",
       "  </tbody>\n",
       "</table>\n",
       "</div>"
      ],
      "text/plain": [
       "   repo_id             rg_name              repo_name         last_updated  \\\n",
       "0    24441  Default Repo Group  operate-first-twitter  2021-10-12 09:19:15   \n",
       "1    24441  Default Repo Group  operate-first-twitter  2021-10-12 09:19:15   \n",
       "2    24441  Default Repo Group  operate-first-twitter  2021-10-26 18:15:41   \n",
       "3    24441  Default Repo Group  operate-first-twitter  2021-10-26 18:15:41   \n",
       "4    24441  Default Repo Group  operate-first-twitter  2021-10-26 18:15:41   \n",
       "\n",
       "         date    to_char    Year  month  hour  increase_committer  \\\n",
       "0  2021-10-12  TUESDAY    2021.0   10.0   9.0                 0.0   \n",
       "1  2021-10-12  TUESDAY    2021.0   10.0   9.0                 0.0   \n",
       "2  2021-10-26  TUESDAY    2021.0   10.0  18.0               -15.0   \n",
       "3  2021-10-26  TUESDAY    2021.0   10.0  18.0                 0.0   \n",
       "4  2021-10-26  TUESDAY    2021.0   10.0  18.0                16.5   \n",
       "\n",
       "   increase_pr_open  increase_commit  total  percentage  \n",
       "0               0.0              0.0    0.0    0.000000  \n",
       "1               0.0              0.0    0.0    0.000000  \n",
       "2              -1.6              0.0 -146.0   -0.469453  \n",
       "3               0.0              0.0    0.0    0.000000  \n",
       "4               0.0              0.0  165.0    0.530547  "
      ]
     },
     "execution_count": 110,
     "metadata": {},
     "output_type": "execute_result"
    }
   ],
   "source": [
    "dframe.head()"
   ]
  },
  {
   "cell_type": "markdown",
   "metadata": {},
   "source": [
    "## PR\n",
    "SQL query for github performance metrics\n",
    "- whether the PR is closed or open -> status\n",
    "- time required to close an PR -> duration\n",
    "- how many days has passed since the ticket is closed -> exp decay"
   ]
  },
  {
   "cell_type": "code",
   "execution_count": 4,
   "metadata": {},
   "outputs": [],
   "source": [
    "dframe_pr = pd.DataFrame()\n",
    "\n",
    "pr_query = salc.sql.text(f\"\"\"\n",
    "\n",
    "SELECT repo_id,\n",
    "\t\tclose_duration,\n",
    "\t\texp_decay,\n",
    "\t\tcount(pull_request_id) AS num,\n",
    "\t\tclose_duration*exp_decay*count(pull_request_id) as total\n",
    "\t\tFROM(\n",
    "\t\t\tSELECT pull_request_id, repo_id,\n",
    "\t\t\t\t   pr_src_state,\n",
    "\t\t\t\t   (pr_closed_at - pr_created_at) AS pull_request_duration,\n",
    "\t\t\t\t   CASE \n",
    "\t\t\t\t   \tWHEN pull_requests.pr_closed_at - pull_requests.pr_created_at < INTERVAL '30 days' THEN 1\n",
    "\t\t\t\t   \tWHEN pull_requests.pr_closed_at - pull_requests.pr_created_at < INTERVAL '60 days' THEN 0.8\n",
    "\t\t\t\t   \tWHEN pull_requests.pr_closed_at - pull_requests.pr_created_at < INTERVAL '90 days' THEN 0.8*0.8\n",
    "\t\t\t\t   \tWHEN pull_requests.pr_closed_at - pull_requests.pr_created_at < INTERVAL '120 days' THEN 0.8*0.8*0.8\n",
    "\t\t\t\t   \tWHEN pull_requests.pr_closed_at - pull_requests.pr_created_at < INTERVAL '150 days' THEN 0.8*0.8*0.8*0.8\n",
    "\t\t\t\t   \tWHEN pull_requests.pr_closed_at - pull_requests.pr_created_at < INTERVAL '180 days' THEN 0.8*0.8*0.8*0.8*0.8\n",
    "\t\t\t\t   \tWHEN pull_requests.pr_closed_at - pull_requests.pr_created_at < INTERVAL '210 days' THEN 0.8*0.8*0.8*0.8*0.8*0.8\n",
    "\t\t\t\t   \tWHEN pull_requests.pr_closed_at - pull_requests.pr_created_at < INTERVAL '240 days' THEN 0.8*0.8*0.8*0.8*0.8*0.8*0.8\n",
    "\t\t\t\t   \tWHEN pull_requests.pr_closed_at - pull_requests.pr_created_at < INTERVAL '270 days' THEN 0.8*0.8*0.8*0.8*0.8*0.8*0.8*0.8\n",
    "\t\t\t\t   \tWHEN pull_requests.pr_closed_at - pull_requests.pr_created_at < INTERVAL '300 days' THEN 0.8*0.8*0.8*0.8*0.8*0.8*0.8*0.8*0.8\n",
    "\t\t\t\t   \tWHEN pull_requests.pr_closed_at - pull_requests.pr_created_at < INTERVAL '330 days' THEN 0.8*0.8*0.8*0.8*0.8*0.8*0.8*0.8*0.8*0.8\n",
    "\t\t\t\t   \tWHEN pull_requests.pr_closed_at - pull_requests.pr_created_at < INTERVAL '360 days' THEN 0.8*0.8*0.8*0.8*0.8*0.8*0.8*0.8*0.8*0.8*0.8\n",
    "\t\t\t\t   \tWHEN pull_requests.pr_closed_at IS NULL AND NOW() - pull_requests.pr_created_at < INTERVAL '45 days' THEN 0.5\n",
    "\t\t\t\t   \tELSE 0\n",
    "\t\t\t\t   END\n",
    "\t\t\t\t   AS close_duration,\n",
    "\t\t\t\t   NOW() - pull_requests.pr_closed_at AS \"time_passed\",\n",
    "\t\t\t\t   CASE \n",
    "\t\t\t\t   \tWHEN NOW() - pull_requests.pr_closed_at < INTERVAL '30 days' THEN 1\n",
    "\t\t\t\t   \tWHEN NOW() - pull_requests.pr_closed_at < INTERVAL '60 days' THEN 0.9\n",
    "\t\t\t\t   \tWHEN NOW() - pull_requests.pr_closed_at < INTERVAL '90 days' THEN 0.9*0.9\n",
    "\t\t\t\t   \tWHEN NOW() - pull_requests.pr_closed_at < INTERVAL '120 days' THEN 0.9*0.9*0.9\n",
    "\t\t\t\t   \tWHEN NOW() - pull_requests.pr_closed_at < INTERVAL '150 days' THEN 0.9*0.9*0.9*0.9\n",
    "\t\t\t\t   \tWHEN NOW() - pull_requests.pr_closed_at < INTERVAL '180 days' THEN 0.9*0.9*0.9*0.9*0.9\n",
    "\t\t\t\t   \tWHEN NOW() - pull_requests.pr_closed_at < INTERVAL '210 days' THEN 0.9*0.9*0.9*0.9*0.9*0.9\n",
    "\t\t\t\t   \tWHEN NOW() - pull_requests.pr_closed_at < INTERVAL '240 days' THEN 0.9*0.9*0.9*0.9*0.9*0.9*0.9\n",
    "\t\t\t\t   \tWHEN NOW() - pull_requests.pr_closed_at < INTERVAL '270 days' THEN 0.9*0.9*0.9*0.9*0.9*0.9*0.9*0.9\n",
    "\t\t\t\t   \tWHEN NOW() - pull_requests.pr_closed_at < INTERVAL '300 days' THEN 0.9*0.9*0.9*0.9*0.9*0.9*0.9*0.9*0.9\n",
    "\t\t\t\t   \tWHEN NOW() - pull_requests.pr_closed_at < INTERVAL '330 days' THEN 0.9*0.9*0.9*0.9*0.9*0.9*0.9*0.9*0.9*0.9\n",
    "\t\t\t\t   \tWHEN NOW() - pull_requests.pr_closed_at < INTERVAL '360 days' THEN 0.9*0.9*0.9*0.9*0.9*0.9*0.9*0.9*0.9*0.9*0.9\n",
    "\t\t\t\t   \tELSE 0\n",
    "\t\t\t\t   END\n",
    "\t\t\t\t   AS exp_decay,\n",
    "\t\t\t\t   pull_requests.pr_closed_at\n",
    "\t\t\tFROM pull_requests\n",
    "\t\t\tWHERE EXTRACT(YEAR FROM pull_requests.pr_closed_at) >= 2022\n",
    "\t\t\tORDER BY repo_id \n",
    "\t\t) AS x\n",
    "\tGROUP BY repo_id, close_duration, exp_decay\n",
    "\torder by repo_id\n",
    "\n",
    "\"\"\")\n",
    "\n",
    "dframe_pr = pd.read_sql(pr_query, con=engine)"
   ]
  },
  {
   "cell_type": "code",
   "execution_count": 7,
   "metadata": {},
   "outputs": [
    {
     "data": {
      "text/html": [
       "<div>\n",
       "<style scoped>\n",
       "    .dataframe tbody tr th:only-of-type {\n",
       "        vertical-align: middle;\n",
       "    }\n",
       "\n",
       "    .dataframe tbody tr th {\n",
       "        vertical-align: top;\n",
       "    }\n",
       "\n",
       "    .dataframe thead th {\n",
       "        text-align: right;\n",
       "    }\n",
       "</style>\n",
       "<table border=\"1\" class=\"dataframe\">\n",
       "  <thead>\n",
       "    <tr style=\"text-align: right;\">\n",
       "      <th></th>\n",
       "      <th>repo_id</th>\n",
       "      <th>close_duration</th>\n",
       "      <th>exp_decay</th>\n",
       "      <th>num</th>\n",
       "      <th>total</th>\n",
       "    </tr>\n",
       "  </thead>\n",
       "  <tbody>\n",
       "    <tr>\n",
       "      <th>0</th>\n",
       "      <td>25440</td>\n",
       "      <td>1.0</td>\n",
       "      <td>0.59049</td>\n",
       "      <td>3</td>\n",
       "      <td>1.77147</td>\n",
       "    </tr>\n",
       "    <tr>\n",
       "      <th>1</th>\n",
       "      <td>25458</td>\n",
       "      <td>1.0</td>\n",
       "      <td>0.59049</td>\n",
       "      <td>1</td>\n",
       "      <td>0.59049</td>\n",
       "    </tr>\n",
       "    <tr>\n",
       "      <th>2</th>\n",
       "      <td>25459</td>\n",
       "      <td>1.0</td>\n",
       "      <td>0.65610</td>\n",
       "      <td>28</td>\n",
       "      <td>18.37080</td>\n",
       "    </tr>\n",
       "    <tr>\n",
       "      <th>3</th>\n",
       "      <td>25459</td>\n",
       "      <td>1.0</td>\n",
       "      <td>0.59049</td>\n",
       "      <td>10</td>\n",
       "      <td>5.90490</td>\n",
       "    </tr>\n",
       "    <tr>\n",
       "      <th>4</th>\n",
       "      <td>25459</td>\n",
       "      <td>1.0</td>\n",
       "      <td>0.72900</td>\n",
       "      <td>37</td>\n",
       "      <td>26.97300</td>\n",
       "    </tr>\n",
       "  </tbody>\n",
       "</table>\n",
       "</div>"
      ],
      "text/plain": [
       "   repo_id  close_duration  exp_decay  num     total\n",
       "0    25440             1.0    0.59049    3   1.77147\n",
       "1    25458             1.0    0.59049    1   0.59049\n",
       "2    25459             1.0    0.65610   28  18.37080\n",
       "3    25459             1.0    0.59049   10   5.90490\n",
       "4    25459             1.0    0.72900   37  26.97300"
      ]
     },
     "execution_count": 7,
     "metadata": {},
     "output_type": "execute_result"
    }
   ],
   "source": [
    "dframe_pr.head()"
   ]
  },
  {
   "cell_type": "markdown",
   "metadata": {},
   "source": [
    "## Issue\n",
    "- SQL query for github performance metrics\n",
    "- time required to close an issue -> duration\n",
    "- how many days has passed since the ticket is closed -> exp decay"
   ]
  },
  {
   "cell_type": "code",
   "execution_count": 5,
   "metadata": {},
   "outputs": [],
   "source": [
    "issue_query = salc.sql.text(f\"\"\"\n",
    "SELECT repo_id,\n",
    "\t\tclose_duration,\n",
    "\t\texp_decay,\n",
    "\t\tcount(issue_id) AS num,\n",
    "\t\tclose_duration*exp_decay*count(issue_id) AS total\n",
    "\t\tFROM(\n",
    "\t\t\tSELECT repo_id,\n",
    "\t\t\t\t   issue_id,\n",
    "\t\t\t\t   issue_state,\n",
    "\t\t\t\t   (closed_at - created_at) AS issue_close_duration,\n",
    "\t\t\t\t   /*(updated_at - created_at) as issue_update_duration,*/\n",
    "\t\t\t\t   CASE \n",
    "\t\t\t\t\t   \tWHEN i.closed_at - i.created_at < interval '15 days' THEN 1\n",
    "\t\t\t\t\t   \tWHEN i.closed_at - i.created_at < interval '30 days' THEN 0.7\n",
    "\t\t\t\t\t   \tWHEN i.closed_at - i.created_at < interval '60 days' THEN 0.7*0.7\n",
    "\t\t\t\t\t   \tWHEN i.closed_at - i.created_at < interval '90 days' THEN 0.7*0.7*0.7\n",
    "\t\t\t\t\t   \tWHEN i.closed_at - i.created_at < interval '120 days' THEN 0.7*0.7*0.7*0.7\n",
    "\t\t\t\t\t   \tWHEN i.closed_at - i.created_at < interval '150 days' THEN 0.7*0.7*0.7*0.7*0.7\n",
    "\t\t\t\t\t   \tWHEN i.closed_at - i.created_at < interval '180 days' THEN 0.7*0.7*0.7*0.7*0.7*0.7\n",
    "\t\t\t\t\t   \tWHEN i.closed_at - i.created_at < interval '210 days' THEN 0.7*0.7*0.7*0.7*0.7*0.7*0.7\n",
    "\t\t\t\t\t   \tWHEN i.closed_at - i.created_at < interval '240 days' THEN 0.7*0.7*0.7*0.7*0.7*0.7*0.7*0.7\n",
    "\t\t\t\t\t   \tWHEN i.closed_at - i.created_at < interval '270 days' THEN 0.7*0.7*0.7*0.7*0.7*0.7*0.7*0.7*0.7\n",
    "\t\t\t\t\t   \tWHEN i.closed_at - i.created_at < interval '300 days' THEN 0.7*0.7*0.7*0.7*0.7*0.7*0.7*0.7*0.7*0.7\n",
    "\t\t\t\t\t   \tWHEN i.closed_at - i.created_at < interval '330 days' THEN 0.7*0.7*0.7*0.7*0.7*0.7*0.7*0.7*0.7*0.7*0.7\n",
    "\t\t\t\t\t   \tWHEN i.closed_at - i.created_at < interval '360 days' THEN 0.7*0.7*0.7*0.7*0.7*0.7*0.7*0.7*0.7*0.7*0.7*0.7\n",
    "\t\t\t\t\t   \twhen i.closed_at IS NULL AND NOW() - i.created_at < interval '45 days' THEN 0.5\n",
    "\t\t\t\t\t   \tELSE 0\n",
    "\t\t\t\t   END\n",
    "\t\t\t\t   AS close_duration,\n",
    "\t\t\t\t   i.created_at,\n",
    "\t\t\t\t   i.closed_at,\n",
    "\t\t\t\t   NOW() - i.closed_at AS \"time_passed_after_closing\",\n",
    "\t\t\t\t   CASE \n",
    "\t\t\t\t   \tWHEN NOW() - i.closed_at < interval '30 days' THEN 1\n",
    "\t\t\t\t   \tWHEN NOW() - i.closed_at < interval '60 days' THEN 0.9\n",
    "\t\t\t\t   \tWHEN NOW() - i.closed_at < interval '90 days' THEN 0.9*0.9\n",
    "\t\t\t\t   \tWHEN NOW() - i.closed_at < interval '120 days' THEN 0.9*0.9*0.9\n",
    "\t\t\t\t   \tWHEN NOW() - i.closed_at < interval '150 days' THEN 0.9*0.9*0.9*0.9\n",
    "\t\t\t\t   \tWHEN NOW() - i.closed_at < interval '180 days' THEN 0.9*0.9*0.9*0.9*0.9\n",
    "\t\t\t\t   \tWHEN NOW() - i.closed_at < interval '210 days' THEN 0.9*0.9*0.9*0.9*0.9*0.9\n",
    "\t\t\t\t   \tWHEN NOW() - i.closed_at < interval '240 days' THEN 0.9*0.9*0.9*0.9*0.9*0.9*0.9\n",
    "\t\t\t\t   \tWHEN NOW() - i.closed_at < interval '270 days' THEN 0.9*0.9*0.9*0.9*0.9*0.9*0.9*0.9\n",
    "\t\t\t\t   \tWHEN NOW() - i.closed_at < interval '300 days' THEN 0.9*0.9*0.9*0.9*0.9*0.9*0.9*0.9*0.9\n",
    "\t\t\t\t   \tWHEN NOW() - i.closed_at < interval '330 days' THEN 0.9*0.9*0.9*0.9*0.9*0.9*0.9*0.9*0.9*0.9\n",
    "\t\t\t\t   \tWHEN NOW() - i.closed_at < interval '360 days' THEN 0.9*0.9*0.9*0.9*0.9*0.9*0.9*0.9*0.9*0.9*0.9\n",
    "\t\t\t\t   \tELSE 0\n",
    "\t\t\t\t   END\n",
    "\t\t\t\t   AS exp_decay\n",
    "\t\t\tFROM issues i\n",
    "\t\t\tWHERE extract(year from i.created_at) >= 2022\n",
    "\t\t\tORDER BY repo_id\n",
    "\t\t\t) AS x\n",
    "\tGROUP BY repo_id, close_duration, exp_decay\n",
    "\torder by repo_id\n",
    "\"\"\")\n",
    "\n",
    "dframe_issue = pd.read_sql(issue_query, con=engine)"
   ]
  },
  {
   "cell_type": "markdown",
   "metadata": {},
   "source": [
    "## Performance Metrics\n",
    "- Evaluating the duration from issue open to close as issue_close_duration column\n",
    "- Issue_close_duration_day column: extract day from issue_close_duration"
   ]
  },
  {
   "cell_type": "code",
   "execution_count": 98,
   "metadata": {},
   "outputs": [],
   "source": [
    "issue2_query = salc.sql.text(f\"\"\"\t\n",
    "\t\t\tSELECT repo_id,\n",
    "\t\t\t\t   issue_state,\n",
    "\t\t\t\t   (closed_at - created_at) AS issue_close_duration,\n",
    "\t\t\t\t   extract(day from closed_at - created_at) AS issue_close_duration_day,\n",
    "\t\t\t\t   comment_count\n",
    "\t\t\tFROM issues i\n",
    "\t\t\tWHERE extract(year from i.created_at) >= 2022\n",
    "\t\t\tORDER BY repo_id\n",
    "\"\"\")\n",
    "\n",
    "dtest = pd.read_sql(issue2_query, con=engine)"
   ]
  },
  {
   "cell_type": "code",
   "execution_count": 99,
   "metadata": {},
   "outputs": [
    {
     "data": {
      "text/html": [
       "<div>\n",
       "<style scoped>\n",
       "    .dataframe tbody tr th:only-of-type {\n",
       "        vertical-align: middle;\n",
       "    }\n",
       "\n",
       "    .dataframe tbody tr th {\n",
       "        vertical-align: top;\n",
       "    }\n",
       "\n",
       "    .dataframe thead th {\n",
       "        text-align: right;\n",
       "    }\n",
       "</style>\n",
       "<table border=\"1\" class=\"dataframe\">\n",
       "  <thead>\n",
       "    <tr style=\"text-align: right;\">\n",
       "      <th></th>\n",
       "      <th>repo_id</th>\n",
       "      <th>issue_state</th>\n",
       "      <th>issue_close_duration</th>\n",
       "      <th>issue_close_duration_day</th>\n",
       "      <th>comment_count</th>\n",
       "    </tr>\n",
       "  </thead>\n",
       "  <tbody>\n",
       "    <tr>\n",
       "      <th>0</th>\n",
       "      <td>24441</td>\n",
       "      <td>closed</td>\n",
       "      <td>0 days 00:07:04</td>\n",
       "      <td>0.0</td>\n",
       "      <td>1</td>\n",
       "    </tr>\n",
       "    <tr>\n",
       "      <th>1</th>\n",
       "      <td>24441</td>\n",
       "      <td>closed</td>\n",
       "      <td>0 days 06:28:34</td>\n",
       "      <td>0.0</td>\n",
       "      <td>1</td>\n",
       "    </tr>\n",
       "    <tr>\n",
       "      <th>2</th>\n",
       "      <td>24441</td>\n",
       "      <td>closed</td>\n",
       "      <td>0 days 01:06:43</td>\n",
       "      <td>0.0</td>\n",
       "      <td>1</td>\n",
       "    </tr>\n",
       "    <tr>\n",
       "      <th>3</th>\n",
       "      <td>24441</td>\n",
       "      <td>closed</td>\n",
       "      <td>0 days 21:11:11</td>\n",
       "      <td>0.0</td>\n",
       "      <td>1</td>\n",
       "    </tr>\n",
       "    <tr>\n",
       "      <th>4</th>\n",
       "      <td>24441</td>\n",
       "      <td>closed</td>\n",
       "      <td>0 days 17:05:01</td>\n",
       "      <td>0.0</td>\n",
       "      <td>1</td>\n",
       "    </tr>\n",
       "  </tbody>\n",
       "</table>\n",
       "</div>"
      ],
      "text/plain": [
       "   repo_id issue_state issue_close_duration  issue_close_duration_day  \\\n",
       "0    24441      closed      0 days 00:07:04                       0.0   \n",
       "1    24441      closed      0 days 06:28:34                       0.0   \n",
       "2    24441      closed      0 days 01:06:43                       0.0   \n",
       "3    24441      closed      0 days 21:11:11                       0.0   \n",
       "4    24441      closed      0 days 17:05:01                       0.0   \n",
       "\n",
       "   comment_count  \n",
       "0              1  \n",
       "1              1  \n",
       "2              1  \n",
       "3              1  \n",
       "4              1  "
      ]
     },
     "execution_count": 99,
     "metadata": {},
     "output_type": "execute_result"
    }
   ],
   "source": [
    "dtest.head()"
   ]
  },
  {
   "cell_type": "markdown",
   "metadata": {},
   "source": [
    "Extract only issue_close_duration_day and comment_count column from the original dataframe and make a copy"
   ]
  },
  {
   "cell_type": "code",
   "execution_count": 100,
   "metadata": {},
   "outputs": [
    {
     "data": {
      "text/html": [
       "<div>\n",
       "<style scoped>\n",
       "    .dataframe tbody tr th:only-of-type {\n",
       "        vertical-align: middle;\n",
       "    }\n",
       "\n",
       "    .dataframe tbody tr th {\n",
       "        vertical-align: top;\n",
       "    }\n",
       "\n",
       "    .dataframe thead th {\n",
       "        text-align: right;\n",
       "    }\n",
       "</style>\n",
       "<table border=\"1\" class=\"dataframe\">\n",
       "  <thead>\n",
       "    <tr style=\"text-align: right;\">\n",
       "      <th></th>\n",
       "      <th>issue_close_duration_day</th>\n",
       "      <th>comment_count</th>\n",
       "    </tr>\n",
       "  </thead>\n",
       "  <tbody>\n",
       "    <tr>\n",
       "      <th>0</th>\n",
       "      <td>0.0</td>\n",
       "      <td>1</td>\n",
       "    </tr>\n",
       "    <tr>\n",
       "      <th>1</th>\n",
       "      <td>0.0</td>\n",
       "      <td>1</td>\n",
       "    </tr>\n",
       "    <tr>\n",
       "      <th>2</th>\n",
       "      <td>0.0</td>\n",
       "      <td>1</td>\n",
       "    </tr>\n",
       "    <tr>\n",
       "      <th>3</th>\n",
       "      <td>0.0</td>\n",
       "      <td>1</td>\n",
       "    </tr>\n",
       "    <tr>\n",
       "      <th>4</th>\n",
       "      <td>0.0</td>\n",
       "      <td>1</td>\n",
       "    </tr>\n",
       "  </tbody>\n",
       "</table>\n",
       "</div>"
      ],
      "text/plain": [
       "   issue_close_duration_day  comment_count\n",
       "0                       0.0              1\n",
       "1                       0.0              1\n",
       "2                       0.0              1\n",
       "3                       0.0              1\n",
       "4                       0.0              1"
      ]
     },
     "execution_count": 100,
     "metadata": {},
     "output_type": "execute_result"
    }
   ],
   "source": [
    "frame = dtest[['issue_close_duration_day', 'comment_count']].copy()\n",
    "frame = frame.fillna(0)\n",
    "frame.head()"
   ]
  },
  {
   "cell_type": "markdown",
   "metadata": {},
   "source": [
    "## Elbow method...\n",
    "Apply KMenas clustering on the duration_day and comment_count column for segmentation on issue being closed within how many days should be segmented into how many differenct groups, what are each decay rate...\n",
    "- Number of clusters (n = 4): number of groups for different performance (active performance/ mild performance/ poor performance/ low performance)\n",
    "- Cluster size (179995, 13545, 3011, 103): The threshold for the four groups?\n",
    "- Decay rate (slope in the curve?): how much weight should be given to active performance? Mild performance? Poor performance? Low performance?"
   ]
  },
  {
   "cell_type": "code",
   "execution_count": 101,
   "metadata": {},
   "outputs": [
    {
     "data": {
      "image/png": "[encoded data removed]",
      "text/plain": [
       "<Figure size 576x396 with 2 Axes>"
      ]
     },
     "metadata": {},
     "output_type": "display_data"
    },
    {
     "data": {
      "text/plain": [
       "<AxesSubplot:title={'center':'Distortion Score Elbow for KMeans Clustering'}, xlabel='k', ylabel='distortion score'>"
      ]
     },
     "execution_count": 101,
     "metadata": {},
     "output_type": "execute_result"
    }
   ],
   "source": [
    "from yellowbrick.cluster import KElbowVisualizer\n",
    "model = KMeans()\n",
    "visualizer = KElbowVisualizer(model, k=(1,12)).fit(frame)\n",
    "visualizer.show()"
   ]
  },
  {
   "cell_type": "code",
   "execution_count": 102,
   "metadata": {},
   "outputs": [],
   "source": [
    "from sklearn.cluster import KMeans\n",
    "kmeans = KMeans(n_clusters=4, init='k-means++', random_state=0).fit(frame)"
   ]
  },
  {
   "cell_type": "code",
   "execution_count": 103,
   "metadata": {},
   "outputs": [
    {
     "name": "stdout",
     "output_type": "stream",
     "text": [
      "[0 0 0 ... 0 0 0]\n",
      "12730633.270213097\n",
      "12\n",
      "[[  1.14542313   2.05996933]\n",
      " [ 80.801727     2.925274  ]\n",
      " [ 18.04854369 258.90291262]\n",
      " [ 24.74977857   6.18024801]]\n"
     ]
    }
   ],
   "source": [
    "print(kmeans.labels_)\n",
    "print(kmeans.inertia_)\n",
    "print(kmeans.n_iter_)\n",
    "print(kmeans.cluster_centers_)"
   ]
  },
  {
   "cell_type": "markdown",
   "metadata": {},
   "source": [
    "k-means clustering has four clusters of size 179995, 13545, 3011, and 103, which in our case menas that there's 179995 active performance, 13545 mild performace, and 3011 poor performance..."
   ]
  },
  {
   "cell_type": "code",
   "execution_count": 105,
   "metadata": {},
   "outputs": [
    {
     "data": {
      "text/plain": [
       "Counter({0: 179995, 3: 13545, 1: 3011, 2: 103})"
      ]
     },
     "execution_count": 105,
     "metadata": {},
     "output_type": "execute_result"
    }
   ],
   "source": [
    "from collections import Counter\n",
    "Counter(kmeans.labels_)"
   ]
  },
  {
   "cell_type": "code",
   "execution_count": 107,
   "metadata": {},
   "outputs": [
    {
     "data": {
      "image/png": "[encoded data removed]",
      "text/plain": [
       "<Figure size 576x396 with 1 Axes>"
      ]
     },
     "metadata": {},
     "output_type": "display_data"
    }
   ],
   "source": [
    "import seaborn as sns\n",
    "import matplotlib.pyplot as plt\n",
    "sns.scatterplot(data=frame, x=\"issue_close_duration_day\", y=\"comment_count\", hue=kmeans.labels_)\n",
    "plt.show()"
   ]
  },
  {
   "cell_type": "markdown",
   "metadata": {},
   "source": [
    "Question: I used commnet count as y axis, but not sure if that make sense at all"
   ]
  },
  {
   "cell_type": "markdown",
   "metadata": {},
   "source": [
    "## Activity plot (WIP)"
   ]
  },
  {
   "cell_type": "code",
   "execution_count": 40,
   "metadata": {},
   "outputs": [
    {
     "data": {
      "application/vnd.plotly.v1+json": {
       "config": {
        "plotlyServerURL": "https://plot.ly"
       },
       "data": [
        {
         "coloraxis": "coloraxis",
         "hoverongaps": false,
         "hovertemplate": "rg_name: %{y}<br>Date: %{x}<br>percentage %: %{z}<extra></extra>",
         "name": "0",
         "type": "heatmap",
         "x": [
          "repo_id",
          "rg_name",
          "repo_name",
          "last_updated",
          "date",
          "to_char",
          "Year",
          "month",
          "hour",
          "increase_committer",
          "increase_pr_open",
          "increase_commit",
          "total",
          "percentage"
         ],
         "xaxis": "x",
         "y": [
          0,
          1,
          2,
          3,
          4,
          5,
          6,
          7,
          8,
          9
         ],
         "yaxis": "y",
         "z": [
          [
           24441,
           "Default Repo Group",
           "operate-first-twitter",
           "2021-10-12T09:19:15",
           "2021-10-12",
           "TUESDAY  ",
           2021,
           10,
           9,
           null,
           null,
           null,
           null,
           null
          ],
          [
           24441,
           "Default Repo Group",
           "operate-first-twitter",
           "2021-10-12T09:19:15",
           "2021-10-12",
           "TUESDAY  ",
           2021,
           10,
           9,
           0,
           0,
           null,
           0,
           0
          ],
          [
           24441,
           "Default Repo Group",
           "operate-first-twitter",
           "2021-10-26T18:15:41",
           "2021-10-26",
           "TUESDAY  ",
           2021,
           10,
           18,
           -15,
           -1.6,
           null,
           -146,
           -0.4694533762057878
          ],
          [
           24441,
           "Default Repo Group",
           "operate-first-twitter",
           "2021-10-26T18:15:41",
           "2021-10-26",
           "TUESDAY  ",
           2021,
           10,
           18,
           0,
           0,
           null,
           0,
           0
          ],
          [
           24441,
           "Default Repo Group",
           "operate-first-twitter",
           "2021-10-26T18:15:41",
           "2021-10-26",
           "TUESDAY  ",
           2021,
           10,
           18,
           16.5,
           0,
           null,
           165,
           0.5305466237942122
          ],
          [
           24441,
           "Default Repo Group",
           "operate-first-twitter",
           "2021-11-01T12:57:24",
           "2021-11-01",
           "MONDAY   ",
           2021,
           11,
           12,
           0,
           -1.6,
           null,
           4,
           0.012861736334405145
          ],
          [
           24441,
           "Default Repo Group",
           "operate-first-twitter",
           "2021-11-01T12:57:24",
           "2021-11-01",
           "MONDAY   ",
           2021,
           11,
           12,
           0,
           0,
           null,
           0,
           0
          ],
          [
           24441,
           "Default Repo Group",
           "operate-first-twitter",
           "2021-11-04T13:34:36",
           "2021-11-04",
           "THURSDAY ",
           2021,
           11,
           13,
           0,
           3.2,
           null,
           100,
           0.3215434083601286
          ],
          [
           24441,
           "Default Repo Group",
           "operate-first-twitter",
           "2021-12-17T14:25:22",
           "2021-12-17",
           "FRIDAY   ",
           2021,
           12,
           14,
           0,
           -1.6,
           null,
           184,
           0.5916398713826366
          ],
          [
           24441,
           "Default Repo Group",
           "operate-first-twitter",
           "2021-12-17T14:25:22",
           "2021-12-17",
           "FRIDAY   ",
           2021,
           12,
           14,
           0,
           0,
           null,
           0,
           0
          ]
         ]
        }
       ],
       "layout": {
        "coloraxis": {
         "colorscale": [
          [
           0,
           "rgb(252,251,253)"
          ],
          [
           0.125,
           "rgb(239,237,245)"
          ],
          [
           0.25,
           "rgb(218,218,235)"
          ],
          [
           0.375,
           "rgb(188,189,220)"
          ],
          [
           0.5,
           "rgb(158,154,200)"
          ],
          [
           0.625,
           "rgb(128,125,186)"
          ],
          [
           0.75,
           "rgb(106,81,163)"
          ],
          [
           0.875,
           "rgb(84,39,143)"
          ],
          [
           1,
           "rgb(63,0,125)"
          ]
         ]
        },
        "template": {
         "data": {
          "bar": [
           {
            "error_x": {
             "color": "#2a3f5f"
            },
            "error_y": {
             "color": "#2a3f5f"
            },
            "marker": {
             "line": {
              "color": "#E5ECF6",
              "width": 0.5
             },
             "pattern": {
              "fillmode": "overlay",
              "size": 10,
              "solidity": 0.2
             }
            },
            "type": "bar"
           }
          ],
          "barpolar": [
           {
            "marker": {
             "line": {
              "color": "#E5ECF6",
              "width": 0.5
             },
             "pattern": {
              "fillmode": "overlay",
              "size": 10,
              "solidity": 0.2
             }
            },
            "type": "barpolar"
           }
          ],
          "carpet": [
           {
            "aaxis": {
             "endlinecolor": "#2a3f5f",
             "gridcolor": "white",
             "linecolor": "white",
             "minorgridcolor": "white",
             "startlinecolor": "#2a3f5f"
            },
            "baxis": {
             "endlinecolor": "#2a3f5f",
             "gridcolor": "white",
             "linecolor": "white",
             "minorgridcolor": "white",
             "startlinecolor": "#2a3f5f"
            },
            "type": "carpet"
           }
          ],
          "choropleth": [
           {
            "colorbar": {
             "outlinewidth": 0,
             "ticks": ""
            },
            "type": "choropleth"
           }
          ],
          "contour": [
           {
            "colorbar": {
             "outlinewidth": 0,
             "ticks": ""
            },
            "colorscale": [
             [
              0,
              "#0d0887"
             ],
             [
              0.1111111111111111,
              "#46039f"
             ],
             [
              0.2222222222222222,
              "#7201a8"
             ],
             [
              0.3333333333333333,
              "#9c179e"
             ],
             [
              0.4444444444444444,
              "#bd3786"
             ],
             [
              0.5555555555555556,
              "#d8576b"
             ],
             [
              0.6666666666666666,
              "#ed7953"
             ],
             [
              0.7777777777777778,
              "#fb9f3a"
             ],
             [
              0.8888888888888888,
              "#fdca26"
             ],
             [
              1,
              "#f0f921"
             ]
            ],
            "type": "contour"
           }
          ],
          "contourcarpet": [
           {
            "colorbar": {
             "outlinewidth": 0,
             "ticks": ""
            },
            "type": "contourcarpet"
           }
          ],
          "heatmap": [
           {
            "colorbar": {
             "outlinewidth": 0,
             "ticks": ""
            },
            "colorscale": [
             [
              0,
              "#0d0887"
             ],
             [
              0.1111111111111111,
              "#46039f"
             ],
             [
              0.2222222222222222,
              "#7201a8"
             ],
             [
              0.3333333333333333,
              "#9c179e"
             ],
             [
              0.4444444444444444,
              "#bd3786"
             ],
             [
              0.5555555555555556,
              "#d8576b"
             ],
             [
              0.6666666666666666,
              "#ed7953"
             ],
             [
              0.7777777777777778,
              "#fb9f3a"
             ],
             [
              0.8888888888888888,
              "#fdca26"
             ],
             [
              1,
              "#f0f921"
             ]
            ],
            "type": "heatmap"
           }
          ],
          "heatmapgl": [
           {
            "colorbar": {
             "outlinewidth": 0,
             "ticks": ""
            },
            "colorscale": [
             [
              0,
              "#0d0887"
             ],
             [
              0.1111111111111111,
              "#46039f"
             ],
             [
              0.2222222222222222,
              "#7201a8"
             ],
             [
              0.3333333333333333,
              "#9c179e"
             ],
             [
              0.4444444444444444,
              "#bd3786"
             ],
             [
              0.5555555555555556,
              "#d8576b"
             ],
             [
              0.6666666666666666,
              "#ed7953"
             ],
             [
              0.7777777777777778,
              "#fb9f3a"
             ],
             [
              0.8888888888888888,
              "#fdca26"
             ],
             [
              1,
              "#f0f921"
             ]
            ],
            "type": "heatmapgl"
           }
          ],
          "histogram": [
           {
            "marker": {
             "pattern": {
              "fillmode": "overlay",
              "size": 10,
              "solidity": 0.2
             }
            },
            "type": "histogram"
           }
          ],
          "histogram2d": [
           {
            "colorbar": {
             "outlinewidth": 0,
             "ticks": ""
            },
            "colorscale": [
             [
              0,
              "#0d0887"
             ],
             [
              0.1111111111111111,
              "#46039f"
             ],
             [
              0.2222222222222222,
              "#7201a8"
             ],
             [
              0.3333333333333333,
              "#9c179e"
             ],
             [
              0.4444444444444444,
              "#bd3786"
             ],
             [
              0.5555555555555556,
              "#d8576b"
             ],
             [
              0.6666666666666666,
              "#ed7953"
             ],
             [
              0.7777777777777778,
              "#fb9f3a"
             ],
             [
              0.8888888888888888,
              "#fdca26"
             ],
             [
              1,
              "#f0f921"
             ]
            ],
            "type": "histogram2d"
           }
          ],
          "histogram2dcontour": [
           {
            "colorbar": {
             "outlinewidth": 0,
             "ticks": ""
            },
            "colorscale": [
             [
              0,
              "#0d0887"
             ],
             [
              0.1111111111111111,
              "#46039f"
             ],
             [
              0.2222222222222222,
              "#7201a8"
             ],
             [
              0.3333333333333333,
              "#9c179e"
             ],
             [
              0.4444444444444444,
              "#bd3786"
             ],
             [
              0.5555555555555556,
              "#d8576b"
             ],
             [
              0.6666666666666666,
              "#ed7953"
             ],
             [
              0.7777777777777778,
              "#fb9f3a"
             ],
             [
              0.8888888888888888,
              "#fdca26"
             ],
             [
              1,
              "#f0f921"
             ]
            ],
            "type": "histogram2dcontour"
           }
          ],
          "mesh3d": [
           {
            "colorbar": {
             "outlinewidth": 0,
             "ticks": ""
            },
            "type": "mesh3d"
           }
          ],
          "parcoords": [
           {
            "line": {
             "colorbar": {
              "outlinewidth": 0,
              "ticks": ""
             }
            },
            "type": "parcoords"
           }
          ],
          "pie": [
           {
            "automargin": true,
            "type": "pie"
           }
          ],
          "scatter": [
           {
            "fillpattern": {
             "fillmode": "overlay",
             "size": 10,
             "solidity": 0.2
            },
            "type": "scatter"
           }
          ],
          "scatter3d": [
           {
            "line": {
             "colorbar": {
              "outlinewidth": 0,
              "ticks": ""
             }
            },
            "marker": {
             "colorbar": {
              "outlinewidth": 0,
              "ticks": ""
             }
            },
            "type": "scatter3d"
           }
          ],
          "scattercarpet": [
           {
            "marker": {
             "colorbar": {
              "outlinewidth": 0,
              "ticks": ""
             }
            },
            "type": "scattercarpet"
           }
          ],
          "scattergeo": [
           {
            "marker": {
             "colorbar": {
              "outlinewidth": 0,
              "ticks": ""
             }
            },
            "type": "scattergeo"
           }
          ],
          "scattergl": [
           {
            "marker": {
             "colorbar": {
              "outlinewidth": 0,
              "ticks": ""
             }
            },
            "type": "scattergl"
           }
          ],
          "scattermapbox": [
           {
            "marker": {
             "colorbar": {
              "outlinewidth": 0,
              "ticks": ""
             }
            },
            "type": "scattermapbox"
           }
          ],
          "scatterpolar": [
           {
            "marker": {
             "colorbar": {
              "outlinewidth": 0,
              "ticks": ""
             }
            },
            "type": "scatterpolar"
           }
          ],
          "scatterpolargl": [
           {
            "marker": {
             "colorbar": {
              "outlinewidth": 0,
              "ticks": ""
             }
            },
            "type": "scatterpolargl"
           }
          ],
          "scatterternary": [
           {
            "marker": {
             "colorbar": {
              "outlinewidth": 0,
              "ticks": ""
             }
            },
            "type": "scatterternary"
           }
          ],
          "surface": [
           {
            "colorbar": {
             "outlinewidth": 0,
             "ticks": ""
            },
            "colorscale": [
             [
              0,
              "#0d0887"
             ],
             [
              0.1111111111111111,
              "#46039f"
             ],
             [
              0.2222222222222222,
              "#7201a8"
             ],
             [
              0.3333333333333333,
              "#9c179e"
             ],
             [
              0.4444444444444444,
              "#bd3786"
             ],
             [
              0.5555555555555556,
              "#d8576b"
             ],
             [
              0.6666666666666666,
              "#ed7953"
             ],
             [
              0.7777777777777778,
              "#fb9f3a"
             ],
             [
              0.8888888888888888,
              "#fdca26"
             ],
             [
              1,
              "#f0f921"
             ]
            ],
            "type": "surface"
           }
          ],
          "table": [
           {
            "cells": {
             "fill": {
              "color": "#EBF0F8"
             },
             "line": {
              "color": "white"
             }
            },
            "header": {
             "fill": {
              "color": "#C8D4E3"
             },
             "line": {
              "color": "white"
             }
            },
            "type": "table"
           }
          ]
         },
         "layout": {
          "annotationdefaults": {
           "arrowcolor": "#2a3f5f",
           "arrowhead": 0,
           "arrowwidth": 1
          },
          "autotypenumbers": "strict",
          "coloraxis": {
           "colorbar": {
            "outlinewidth": 0,
            "ticks": ""
           }
          },
          "colorscale": {
           "diverging": [
            [
             0,
             "#8e0152"
            ],
            [
             0.1,
             "#c51b7d"
            ],
            [
             0.2,
             "#de77ae"
            ],
            [
             0.3,
             "#f1b6da"
            ],
            [
             0.4,
             "#fde0ef"
            ],
            [
             0.5,
             "#f7f7f7"
            ],
            [
             0.6,
             "#e6f5d0"
            ],
            [
             0.7,
             "#b8e186"
            ],
            [
             0.8,
             "#7fbc41"
            ],
            [
             0.9,
             "#4d9221"
            ],
            [
             1,
             "#276419"
            ]
           ],
           "sequential": [
            [
             0,
             "#0d0887"
            ],
            [
             0.1111111111111111,
             "#46039f"
            ],
            [
             0.2222222222222222,
             "#7201a8"
            ],
            [
             0.3333333333333333,
             "#9c179e"
            ],
            [
             0.4444444444444444,
             "#bd3786"
            ],
            [
             0.5555555555555556,
             "#d8576b"
            ],
            [
             0.6666666666666666,
             "#ed7953"
            ],
            [
             0.7777777777777778,
             "#fb9f3a"
            ],
            [
             0.8888888888888888,
             "#fdca26"
            ],
            [
             1,
             "#f0f921"
            ]
           ],
           "sequentialminus": [
            [
             0,
             "#0d0887"
            ],
            [
             0.1111111111111111,
             "#46039f"
            ],
            [
             0.2222222222222222,
             "#7201a8"
            ],
            [
             0.3333333333333333,
             "#9c179e"
            ],
            [
             0.4444444444444444,
             "#bd3786"
            ],
            [
             0.5555555555555556,
             "#d8576b"
            ],
            [
             0.6666666666666666,
             "#ed7953"
            ],
            [
             0.7777777777777778,
             "#fb9f3a"
            ],
            [
             0.8888888888888888,
             "#fdca26"
            ],
            [
             1,
             "#f0f921"
            ]
           ]
          },
          "colorway": [
           "#636efa",
           "#EF553B",
           "#00cc96",
           "#ab63fa",
           "#FFA15A",
           "#19d3f3",
           "#FF6692",
           "#B6E880",
           "#FF97FF",
           "#FECB52"
          ],
          "font": {
           "color": "#2a3f5f"
          },
          "geo": {
           "bgcolor": "white",
           "lakecolor": "white",
           "landcolor": "#E5ECF6",
           "showlakes": true,
           "showland": true,
           "subunitcolor": "white"
          },
          "hoverlabel": {
           "align": "left"
          },
          "hovermode": "closest",
          "mapbox": {
           "style": "light"
          },
          "paper_bgcolor": "white",
          "plot_bgcolor": "#E5ECF6",
          "polar": {
           "angularaxis": {
            "gridcolor": "white",
            "linecolor": "white",
            "ticks": ""
           },
           "bgcolor": "#E5ECF6",
           "radialaxis": {
            "gridcolor": "white",
            "linecolor": "white",
            "ticks": ""
           }
          },
          "scene": {
           "xaxis": {
            "backgroundcolor": "#E5ECF6",
            "gridcolor": "white",
            "gridwidth": 2,
            "linecolor": "white",
            "showbackground": true,
            "ticks": "",
            "zerolinecolor": "white"
           },
           "yaxis": {
            "backgroundcolor": "#E5ECF6",
            "gridcolor": "white",
            "gridwidth": 2,
            "linecolor": "white",
            "showbackground": true,
            "ticks": "",
            "zerolinecolor": "white"
           },
           "zaxis": {
            "backgroundcolor": "#E5ECF6",
            "gridcolor": "white",
            "gridwidth": 2,
            "linecolor": "white",
            "showbackground": true,
            "ticks": "",
            "zerolinecolor": "white"
           }
          },
          "shapedefaults": {
           "line": {
            "color": "#2a3f5f"
           }
          },
          "ternary": {
           "aaxis": {
            "gridcolor": "white",
            "linecolor": "white",
            "ticks": ""
           },
           "baxis": {
            "gridcolor": "white",
            "linecolor": "white",
            "ticks": ""
           },
           "bgcolor": "#E5ECF6",
           "caxis": {
            "gridcolor": "white",
            "linecolor": "white",
            "ticks": ""
           }
          },
          "title": {
           "x": 0.05
          },
          "xaxis": {
           "automargin": true,
           "gridcolor": "white",
           "linecolor": "white",
           "ticks": "",
           "title": {
            "standoff": 15
           },
           "zerolinecolor": "white",
           "zerolinewidth": 2
          },
          "yaxis": {
           "automargin": true,
           "gridcolor": "white",
           "linecolor": "white",
           "ticks": "",
           "title": {
            "standoff": 15
           },
           "zerolinecolor": "white",
           "zerolinewidth": 2
          }
         }
        },
        "title": {
         "font": {
          "size": 27
         },
         "text": "Github activity",
         "x": 0.5
        },
        "xaxis": {
         "anchor": "y",
         "constrain": "domain",
         "domain": [
          0,
          1
         ],
         "scaleanchor": "y"
        },
        "yaxis": {
         "anchor": "x",
         "autorange": "reversed",
         "constrain": "domain",
         "domain": [
          0,
          1
         ]
        }
       }
      }
     },
     "metadata": {},
     "output_type": "display_data"
    }
   ],
   "source": [
    "# Plot...\n",
    "import plotly.express as px\n",
    "import pandas as pd\n",
    "dframe = dframe[:1000]\n",
    "\n",
    "fig = px.imshow(dframe, color_continuous_scale=px.colors.sequential.Purples,\n",
    "                title=\"Github activity\")\n",
    "fig.update_layout(title_font={'size':27}, title_x=0.5)\n",
    "fig.update_traces(hoverongaps=False,\n",
    "                  hovertemplate=\"rg_name: %{y}\"\n",
    "                                \"<br>Date: %{x}\"\n",
    "                                \"<br>percentage %: %{z}<extra></extra>\"\n",
    "                  )"
   ]
  },
  {
   "cell_type": "markdown",
   "metadata": {},
   "source": [
    "## heatmap with dash (WIP)"
   ]
  },
  {
   "cell_type": "code",
   "execution_count": null,
   "metadata": {},
   "outputs": [],
   "source": [
    "import dash\n",
    "import dash_core_components as dcc\n",
    "import dash_html_components as html\n",
    "import pandas as pd\n",
    "import plotly.graph_objs as go\n",
    "external_stylesheets = 'https://codepen.io/chriddyp/pen/bWLwgP.css'\n",
    "\n",
    "input_data = duse\n",
    "data = []\n",
    "week = [\"Monday\",\"Tuesday\",\"Wednesday\",\"Thursday\",\"Friday\",\"Saturday\",\"Sunday\"]\n",
    "for i in week:\n",
    "    for j in range(24):\n",
    "        data.append([i,j])\n",
    "check = pd.DataFrame(data,columns=['date','hour'])\n",
    "\n",
    "org = dframe['rg_name'].unique()\n",
    "repo = dframe['repo_name'].unique()\n",
    "org_default = dframe['rg_name'][0]\n",
    "repo_default = dframe['repo_name'][0]\n",
    "df_default = dframe[(dframe['rg_name'] == org_default) & (dframe['repo_name'] == repo_default)]\n",
    "\n",
    "app.layout = html.Div([\n",
    "                html.H1('Github Analysis'),\n",
    "                html.Div([\n",
    "                html.Div([\n",
    "                html.H4('Select org'),\n",
    "\n",
    "                dcc.Dropdown(\n",
    "                    id='org_dropdown',\n",
    "                    multi=True,\n",
    "                    options=[{'label': i, 'value': i} for i in org],\n",
    "                    value = org_default\n",
    "                    ),\n",
    "                    ],\n",
    "                    style={'width': '48%', 'display': 'inline-block'}),\n",
    "\n",
    "                html.Div([\n",
    "                html.H4('Select repo'),\n",
    "\n",
    "                dcc.Dropdown(\n",
    "                    id='repo_dropdown',\n",
    "                    multi=True,\n",
    "                    options=[{'label': i, 'value': i} for i in repo],\n",
    "                    value = repo_default\n",
    "                    ),\n",
    "                    ],\n",
    "                    style={'width': '48%', 'float': 'right', 'display': 'inline-block'}),\n",
    "\n",
    "                dcc.Graph(id='heatmap', \n",
    "                    figure = {'data': [go.Heatmap(\n",
    "                                x = df_default['date'],\n",
    "                                y = df_default['hour'],\n",
    "                                z = df_default['percentage'],\n",
    "                                name = 'first legend group',\n",
    "                                colorscale = 'Viridis')],\n",
    "                            'layout': go.Layout(\n",
    "                                xaxis = dict(title = 'Weekday'),\n",
    "                                yaxis = dict( title = 'Hours'),\n",
    "                            )})\n",
    "                    ]),\n",
    "                ])\n",
    "\n",
    "\n",
    "@app.callback(\n",
    "    dash.dependencies.Output(component_id = 'repo_dropdown', component_property='options'),\n",
    "    [dash.dependencies.Input(component_id = 'org_dropdown', component_property='value')]\n",
    ")\n",
    "def update_Menu_dropdown(selected_POS):\n",
    "    return [{'label': i, 'value': i} for i in dframe[dframe['rg_name'] == selected_POS]['repo_name'].unique()]\n",
    "\n",
    "\n",
    "def update_graph(org_dropdown,repo_dropdown):\n",
    "    heatmap_data = dframe[(dframe['rg_name'] == org_dropdown) & (dframe['repo_name'] == repo_dropdown)][['date','hour','percentage']]\n",
    "    heatmap_data = pd.merge(dframe, heatmap, check, on=['date', 'hour'],how='outer').fillna(0)\n",
    "    print (org_dropdown,repo_dropdown)\n",
    "    maxsale = heatmap_data[heatmap_data['percentage'] == heatmap_data['percentage'].max()]\n",
    "    maxsale = maxsale.reset_index()\n",
    "\n",
    "    return {\n",
    "    'data': [go.Heatmap(\n",
    "        x = heatmap_data['date'],\n",
    "        y = heatmap_data['hour'],\n",
    "        z = heatmap_data['percentage'],\n",
    "        xgap = 2,\n",
    "        ygap = 2,\n",
    "        colorscale = 'Viridis')],\n",
    "    'layout': go.Layout(\n",
    "        title = 'MAJORITY OF ' + repo_dropdown + ' SOLD AT ' + str.upper(org_dropdown) + ' IS ON ' + str.upper(maxsale['date'][0]) + ' ' + str(maxsale['hour'][0])\n",
    "    )\n",
    "    }\n",
    "\n",
    "\n",
    "if __name__ == '__main__':\n",
    "    app.run_server(debug=True, use_reloader=False, port=8051)"
   ]
  }
 ],
 "metadata": {
  "interpreter": {
   "hash": "e7370f93d1d0cde622a1f8e1c04877d8463912d04d973331ad4851f04de6915a"
  },
  "kernelspec": {
   "display_name": "Python 3.10.4 64-bit",
   "language": "python",
   "name": "python3"
  },
  "language_info": {
   "codemirror_mode": {
    "name": "ipython",
    "version": 3
   },
   "file_extension": ".py",
   "mimetype": "text/x-python",
   "name": "python",
   "nbconvert_exporter": "python",
   "pygments_lexer": "ipython3",
   "version": "3.10.4"
  },
  "orig_nbformat": 4
 },
 "nbformat": 4,
 "nbformat_minor": 2
}
